{
 "cells": [
  {
   "cell_type": "code",
   "execution_count": null,
   "metadata": {
    "collapsed": false
   },
   "outputs": [],
   "source": [
    "import sys\n",
    "sys.path.append('../')\n",
    "sys.path.append('../tests/python-support/')\n",
    "\n",
    "%matplotlib notebook"
   ]
  },
  {
   "cell_type": "code",
   "execution_count": null,
   "metadata": {
    "collapsed": false
   },
   "outputs": [],
   "source": [
    "import matplotlib\n",
    "import experiments\n",
    "import itertools\n",
    "import util\n",
    "\n",
    "from pprint import pprint"
   ]
  },
  {
   "cell_type": "code",
   "execution_count": null,
   "metadata": {
    "collapsed": false
   },
   "outputs": [],
   "source": [
    "# Set up details of experiments\n",
    "end_time = [0.5]\n",
    "sample_count = [ 5001 ]\n",
    "h = [ 0.1000, 0.0750, 0.0625 ]\n",
    "\n",
    "experiment_names = [ \"homogeneous_dirichlet_unit_square\",\n",
    "                     \"inhomogeneous_dirichlet_unit_square\" ]\n",
    "param_collection = itertools.product(end_time, sample_count, h)\n",
    "params = [ { 'end_time': x[0], 'sample_count': x[1], 'mesh_resolution': x[2] }\n",
    "          for x in param_collection]\n",
    "experiment_input = [ { 'experiment': e, 'parameters': p }\n",
    "                     for e, p in itertools.product(experiment_names, params) ]"
   ]
  },
  {
   "cell_type": "code",
   "execution_count": null,
   "metadata": {
    "collapsed": false
   },
   "outputs": [],
   "source": [
    "# Run experiments and collect results\n",
    "results = experiments.run_experiments(experiment_input)"
   ]
  },
  {
   "cell_type": "code",
   "execution_count": null,
   "metadata": {
    "collapsed": false
   },
   "outputs": [],
   "source": [
    "pprint(results)"
   ]
  },
  {
   "cell_type": "code",
   "execution_count": null,
   "metadata": {
    "collapsed": false
   },
   "outputs": [],
   "source": [
    "grouped_results = itertools.groupby(results, key = lambda experiment: experiment['experiment'])\n",
    "for experiment, result in grouped_results:\n",
    "    result = list(result)\n",
    "    num_dof = [ result['mesh']['num_vertices'] for result in result ]\n",
    "    l2_error = [ result['error_summary']['l2'] for result in result ]\n",
    "    h1_error = [ result['error_summary']['h1'] for result in result ]\n",
    "    h1_semi_error = [ result['error_summary']['h1_semi'] for result in result ]\n",
    "    l2_slope = util.estimate_slope(num_dof, l2_error)\n",
    "    h1_slope = util.estimate_slope(num_dof, h1_error)\n",
    "    \n",
    "    print(\"Experiment name: {name}\".format(name=experiment))\n",
    "    print(\"Dof:      {}\".format(num_dof))\n",
    "    print(\"H1 semi:  {}\".format(h1_semi_error))\n",
    "    print(\"H1:       {}\".format(h1_error))\n",
    "    print(\"L2:       {}\".format(l2_error))\n",
    "    print(\"H1 slope: {}\".format(h1_slope))\n",
    "    print(\"L2 slope: {}\".format(l2_slope))\n",
    "    print(\"\")"
   ]
  },
  {
   "cell_type": "code",
   "execution_count": null,
   "metadata": {
    "collapsed": false
   },
   "outputs": [],
   "source": [
    "util.estimate_slope(num_dof, l2_error)"
   ]
  },
  {
   "cell_type": "code",
   "execution_count": null,
   "metadata": {
    "collapsed": false
   },
   "outputs": [],
   "source": [
    "util.estimate_slope(num_dof, h1_error)"
   ]
  },
  {
   "cell_type": "code",
   "execution_count": null,
   "metadata": {
    "collapsed": false
   },
   "outputs": [],
   "source": []
  }
 ],
 "metadata": {
  "kernelspec": {
   "display_name": "Python 3",
   "language": "python",
   "name": "python3"
  },
  "language_info": {
   "codemirror_mode": {
    "name": "ipython",
    "version": 3
   },
   "file_extension": ".py",
   "mimetype": "text/x-python",
   "name": "python",
   "nbconvert_exporter": "python",
   "pygments_lexer": "ipython3",
   "version": "3.5.1"
  }
 },
 "nbformat": 4,
 "nbformat_minor": 0
}

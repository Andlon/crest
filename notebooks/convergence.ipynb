{
 "cells": [
  {
   "cell_type": "code",
   "execution_count": null,
   "metadata": {
    "collapsed": false
   },
   "outputs": [],
   "source": [
    "import sys\n",
    "sys.path.append('../')\n",
    "sys.path.append('../tests/python-support/')\n",
    "\n",
    "%matplotlib notebook"
   ]
  },
  {
   "cell_type": "code",
   "execution_count": null,
   "metadata": {
    "collapsed": false
   },
   "outputs": [],
   "source": [
    "import matplotlib\n",
    "import experiments\n",
    "import itertools\n",
    "import util\n",
    "import numpy as np\n",
    "\n",
    "from pprint import pprint"
   ]
  },
  {
   "cell_type": "code",
   "execution_count": null,
   "metadata": {
    "collapsed": false
   },
   "outputs": [],
   "source": [
    "# Names of experiments to run\n",
    "experiment_names = [ \"inhomogeneous_dirichlet_unit_square\" ]\n",
    "\n",
    "# Spatial properties. Use integer powers so that we can have reliable filenames\n",
    "powers = np.array([2, 3, 4 ])\n",
    "basis_filenames = [ \"basis_{}.h5\".format(i) for i in powers]\n",
    "h = 0.5 ** powers\n",
    "oversampling = [ 2 ]\n",
    "integrator = [ \"direct_crank_nicolson\", \"iterative_crank_nicolson\" ]\n",
    "\n",
    "# Temporal details of the simulation\n",
    "end_time = [0.5]\n",
    "sample_count = [ 401 ]\n",
    "\n",
    "# Whether to export or import basis\n",
    "export_basis = False\n",
    "import_basis = True\n",
    "\n",
    "def make_basis_file_corrections(params):\n",
    "    file = params.pop('basis_file')\n",
    "    \n",
    "    if export_basis:\n",
    "        params['basis_export_file'] = file\n",
    "    if import_basis:\n",
    "        params['basis_import_file'] = file\n",
    "    return params\n",
    "\n",
    "param_collection = itertools.product(end_time, sample_count, oversampling, zip(h, basis_filenames), integrator)\n",
    "params = [{ \n",
    "            'end_time': x[0], \n",
    "            'sample_count': x[1], \n",
    "            'oversampling': x[2],\n",
    "            'mesh_resolution': x[3][0],\n",
    "            'basis_file': x[3][1],\n",
    "            'integrator': x[4]\n",
    "          }\n",
    "          for x in param_collection]\n",
    "\n",
    "params = map(make_basis_file_corrections, params)\n",
    "experiment_input = [ { 'experiment': e, 'parameters': p }\n",
    "                     for e, p in itertools.product(experiment_names, params) ]"
   ]
  },
  {
   "cell_type": "code",
   "execution_count": null,
   "metadata": {
    "collapsed": false
   },
   "outputs": [],
   "source": [
    "# Run experiments and collect results\n",
    "results = experiments.run_experiments(experiment_input)"
   ]
  },
  {
   "cell_type": "code",
   "execution_count": null,
   "metadata": {
    "collapsed": false,
    "scrolled": false
   },
   "outputs": [],
   "source": [
    "#pprint(results)"
   ]
  },
  {
   "cell_type": "code",
   "execution_count": null,
   "metadata": {
    "collapsed": false,
    "scrolled": false
   },
   "outputs": [],
   "source": [
    "def key(experiment):\n",
    "    params = experiment['parameters']\n",
    "    name = experiment['experiment']\n",
    "    return (name, params['integrator_name'], params['oversampling'])\n",
    "\n",
    "results = sorted(results, key = key)\n",
    "grouped_results = itertools.groupby(results, key = key)\n",
    "for (name, integrator, oversampling), result in grouped_results:\n",
    "    result = list(result)\n",
    "    num_dof = [ result['mesh']['num_vertices'] for result in result ]\n",
    "    l2_error = [ result['error_summary']['l2'] for result in result ]\n",
    "    h1_error = [ result['error_summary']['h1'] for result in result ]\n",
    "    h1_semi_error = [ result['error_summary']['h1_semi'] for result in result ]\n",
    "    l2_slope = util.estimate_slope(num_dof, l2_error)\n",
    "    h1_slope = util.estimate_slope(num_dof, h1_error)\n",
    "    \n",
    "    print(\"Experiment name: {name}\".format(name=name))\n",
    "    print(\"Integrator:      {}\".format(integrator))\n",
    "    print(\"Oversampling:    {}\".format(oversampling))\n",
    "    print(\"Dof:      {}\".format(num_dof))\n",
    "    print(\"H1 semi:  {}\".format(h1_semi_error))\n",
    "    print(\"H1:       {}\".format(h1_error))\n",
    "    print(\"L2:       {}\".format(l2_error))\n",
    "    print(\"H1 slope: {}\".format(h1_slope))\n",
    "    print(\"L2 slope: {}\".format(l2_slope))\n",
    "    print(\"\")\n",
    "    \n",
    "    "
   ]
  }
 ],
 "metadata": {
  "kernelspec": {
   "display_name": "Python 3",
   "language": "python",
   "name": "python3"
  },
  "language_info": {
   "codemirror_mode": {
    "name": "ipython",
    "version": 3
   },
   "file_extension": ".py",
   "mimetype": "text/x-python",
   "name": "python",
   "nbconvert_exporter": "python",
   "pygments_lexer": "ipython3",
   "version": "3.5.1"
  }
 },
 "nbformat": 4,
 "nbformat_minor": 0
}
